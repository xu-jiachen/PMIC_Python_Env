{
 "cells": [
  {
   "cell_type": "code",
   "execution_count": 1,
   "metadata": {
    "collapsed": true
   },
   "outputs": [],
   "source": [
    "import time\n",
    "import numpy as np\n",
    "import matplotlib.pyplot as plt"
   ]
  },
  {
   "cell_type": "code",
   "execution_count": 2,
   "outputs": [],
   "source": [
    "import matlab.engine\n",
    "m = matlab.engine.connect_matlab('RLengine')"
   ],
   "metadata": {
    "collapsed": false,
    "pycharm": {
     "name": "#%%\n"
    }
   }
  },
  {
   "cell_type": "code",
   "execution_count": 4,
   "outputs": [],
   "source": [
    "t_pause = 0.001 #This needs to match the simulation pausing block parameter\n"
   ],
   "metadata": {
    "collapsed": false,
    "pycharm": {
     "name": "#%%\n"
    }
   }
  },
  {
   "cell_type": "code",
   "execution_count": null,
   "outputs": [],
   "source": [
    "m.workspace['y'] = 2\n",
    "m.load_system(m.workspace['mdl'])\n",
    "m.load_system(\"pmic_simulink_rt\")\n",
    "m.workspace['out'] = m.sim(m.workspace['mdl'])"
   ],
   "metadata": {
    "collapsed": false,
    "pycharm": {
     "name": "#%%\n"
    }
   }
  },
  {
   "cell_type": "code",
   "execution_count": 5,
   "outputs": [],
   "source": [
    "def update_control(mainPWM, PWM1, PWM2, PWM3):\n",
    "    freq = m.workspace['f']\n",
    "    #Main PWM\n",
    "    delay_main = mainPWM / freq\n",
    "    m.set_param(m.workspace['var_D_main'],'Value',str(mainPWM), nargout=0)\n",
    "    m.set_param(m.workspace['var_D_main_n'],'Value',str(1-mainPWM), nargout=0)\n",
    "    m.set_param(m.workspace['var_D_main_PWM'],'Tdelay',str(0), nargout=0)\n",
    "    m.set_param(m.workspace['var_D_main_n_PWM'],'Tdelay',str(delay_main), nargout=0)\n",
    "\n",
    "    delay_PWM1 = 0\n",
    "    delay_PWM2 = PWM1 / freq\n",
    "    delay_PWM3 = (PWM1+PWM2) / freq\n",
    "    #PWM\n",
    "    m.set_param(m.workspace['var_D_si_1'],'Value',str(PWM1), nargout=0)\n",
    "    m.set_param(m.workspace['var_D_si_2'],'Value',str(PWM2), nargout=0)\n",
    "    m.set_param(m.workspace['var_D_si_3'],'Value',str(PWM3), nargout=0)\n",
    "    #Delay\n",
    "    m.set_param(m.workspace['var_D_si_1_PWM'],'Tdelay',str(delay_PWM1), nargout=0)\n",
    "    m.set_param(m.workspace['var_D_si_2_PWM'],'Tdelay',str(delay_PWM2), nargout=0)\n",
    "    m.set_param(m.workspace['var_D_si_3_PWM'],'Tdelay',str(delay_PWM3), nargout=0)\n",
    "\n",
    "def update_load(load1, load2, load3):\n",
    "    m.set_param(m.res_1,'Value',str(load1))\n",
    "    m.set_param(m.res_2,'Value',str(load2))\n",
    "    m.set_param(m.res_3,'Value',str(load3))"
   ],
   "metadata": {
    "collapsed": false,
    "pycharm": {
     "name": "#%%\n"
    }
   }
  },
  {
   "cell_type": "code",
   "execution_count": 6,
   "outputs": [],
   "source": [
    "m.set_param(m.workspace['mdl'],'SimulationCommand','stop',nargout=0)\n",
    "m.set_param(m.workspace['mdl'],'SimulationCommand','start',nargout=0)\n",
    "m.set_param(m.workspace['mdl'],'SimulationCommand','continue',nargout=0)\n"
   ],
   "metadata": {
    "collapsed": false,
    "pycharm": {
     "name": "#%%\n"
    }
   }
  },
  {
   "cell_type": "code",
   "execution_count": 25,
   "outputs": [
    {
     "ename": "EngineError",
     "evalue": "MATLAB function cannot be evaluated",
     "output_type": "error",
     "traceback": [
      "\u001B[1;31m---------------------------------------------------------------------------\u001B[0m",
      "\u001B[1;31mEngineError\u001B[0m                               Traceback (most recent call last)",
      "\u001B[1;32m<ipython-input-25-968a1eeb6d41>\u001B[0m in \u001B[0;36m<module>\u001B[1;34m\u001B[0m\n\u001B[0;32m      6\u001B[0m \u001B[1;32mwhile\u001B[0m \u001B[1;33m(\u001B[0m\u001B[0mstop\u001B[0m\u001B[1;33m!=\u001B[0m\u001B[1;36m1\u001B[0m\u001B[1;33m)\u001B[0m\u001B[1;33m:\u001B[0m\u001B[1;33m\u001B[0m\u001B[1;33m\u001B[0m\u001B[0m\n\u001B[0;32m      7\u001B[0m     \u001B[1;31m#Ask controller to do something when it is the time\u001B[0m\u001B[1;33m\u001B[0m\u001B[1;33m\u001B[0m\u001B[1;33m\u001B[0m\u001B[0m\n\u001B[1;32m----> 8\u001B[1;33m     \u001B[1;32mif\u001B[0m \u001B[1;33m(\u001B[0m\u001B[0mm\u001B[0m\u001B[1;33m.\u001B[0m\u001B[0meval\u001B[0m\u001B[1;33m(\u001B[0m\u001B[1;34m\"out.tout\"\u001B[0m\u001B[1;33m)\u001B[0m\u001B[1;33m[\u001B[0m\u001B[1;33m-\u001B[0m\u001B[1;36m1\u001B[0m\u001B[1;33m]\u001B[0m\u001B[1;33m[\u001B[0m\u001B[1;36m0\u001B[0m\u001B[1;33m]\u001B[0m \u001B[1;33m%\u001B[0m \u001B[0mt_pause\u001B[0m \u001B[1;33m==\u001B[0m \u001B[1;36m0\u001B[0m\u001B[1;33m)\u001B[0m\u001B[1;33m:\u001B[0m\u001B[1;33m\u001B[0m\u001B[1;33m\u001B[0m\u001B[0m\n\u001B[0m\u001B[0;32m      9\u001B[0m         \u001B[0mupdate_control\u001B[0m\u001B[1;33m(\u001B[0m\u001B[0mmainPWM\u001B[0m\u001B[1;33m,\u001B[0m \u001B[0mPWM1\u001B[0m\u001B[1;33m,\u001B[0m \u001B[0mPWM2\u001B[0m\u001B[1;33m,\u001B[0m \u001B[0mPWM3\u001B[0m\u001B[1;33m)\u001B[0m\u001B[1;33m\u001B[0m\u001B[1;33m\u001B[0m\u001B[0m\n\u001B[0;32m     10\u001B[0m         \u001B[0mm\u001B[0m\u001B[1;33m.\u001B[0m\u001B[0mset_param\u001B[0m\u001B[1;33m(\u001B[0m\u001B[0mm\u001B[0m\u001B[1;33m.\u001B[0m\u001B[0mworkspace\u001B[0m\u001B[1;33m[\u001B[0m\u001B[1;34m'mdl'\u001B[0m\u001B[1;33m]\u001B[0m\u001B[1;33m,\u001B[0m\u001B[1;34m'SimulationCommand'\u001B[0m\u001B[1;33m,\u001B[0m\u001B[1;34m'continue'\u001B[0m\u001B[1;33m,\u001B[0m\u001B[0mnargout\u001B[0m\u001B[1;33m=\u001B[0m\u001B[1;36m0\u001B[0m\u001B[1;33m)\u001B[0m\u001B[1;33m\u001B[0m\u001B[1;33m\u001B[0m\u001B[0m\n",
      "\u001B[1;32m~\\Anaconda3\\envs\\ml1\\lib\\site-packages\\matlab\\engine\\matlabengine.py\u001B[0m in \u001B[0;36m__call__\u001B[1;34m(self, *args, **kwargs)\u001B[0m\n\u001B[0;32m     68\u001B[0m             \u001B[1;32mreturn\u001B[0m \u001B[0mFutureResult\u001B[0m\u001B[1;33m(\u001B[0m\u001B[0mself\u001B[0m\u001B[1;33m.\u001B[0m\u001B[0m_engine\u001B[0m\u001B[1;33m(\u001B[0m\u001B[1;33m)\u001B[0m\u001B[1;33m,\u001B[0m \u001B[0mfuture\u001B[0m\u001B[1;33m,\u001B[0m \u001B[0mnargs\u001B[0m\u001B[1;33m,\u001B[0m \u001B[0m_stdout\u001B[0m\u001B[1;33m,\u001B[0m \u001B[0m_stderr\u001B[0m\u001B[1;33m,\u001B[0m \u001B[0mfeval\u001B[0m\u001B[1;33m=\u001B[0m\u001B[1;32mTrue\u001B[0m\u001B[1;33m)\u001B[0m\u001B[1;33m\u001B[0m\u001B[1;33m\u001B[0m\u001B[0m\n\u001B[0;32m     69\u001B[0m         \u001B[1;32melse\u001B[0m\u001B[1;33m:\u001B[0m\u001B[1;33m\u001B[0m\u001B[1;33m\u001B[0m\u001B[0m\n\u001B[1;32m---> 70\u001B[1;33m             return FutureResult(self._engine(), future, nargs, _stdout,\n\u001B[0m\u001B[0;32m     71\u001B[0m                                 _stderr, feval=True).result()\n\u001B[0;32m     72\u001B[0m \u001B[1;33m\u001B[0m\u001B[0m\n",
      "\u001B[1;32m~\\Anaconda3\\envs\\ml1\\lib\\site-packages\\matlab\\engine\\futureresult.py\u001B[0m in \u001B[0;36mresult\u001B[1;34m(self, timeout)\u001B[0m\n\u001B[0;32m     65\u001B[0m                 \u001B[1;32mraise\u001B[0m \u001B[0mTypeError\u001B[0m\u001B[1;33m(\u001B[0m\u001B[0mpythonengine\u001B[0m\u001B[1;33m.\u001B[0m\u001B[0mgetMessage\u001B[0m\u001B[1;33m(\u001B[0m\u001B[1;34m'TimeoutCannotBeNegative'\u001B[0m\u001B[1;33m)\u001B[0m\u001B[1;33m)\u001B[0m\u001B[1;33m\u001B[0m\u001B[1;33m\u001B[0m\u001B[0m\n\u001B[0;32m     66\u001B[0m \u001B[1;33m\u001B[0m\u001B[0m\n\u001B[1;32m---> 67\u001B[1;33m         \u001B[1;32mreturn\u001B[0m \u001B[0mself\u001B[0m\u001B[1;33m.\u001B[0m\u001B[0m__future\u001B[0m\u001B[1;33m.\u001B[0m\u001B[0mresult\u001B[0m\u001B[1;33m(\u001B[0m\u001B[0mtimeout\u001B[0m\u001B[1;33m)\u001B[0m\u001B[1;33m\u001B[0m\u001B[1;33m\u001B[0m\u001B[0m\n\u001B[0m\u001B[0;32m     68\u001B[0m \u001B[1;33m\u001B[0m\u001B[0m\n\u001B[0;32m     69\u001B[0m     \u001B[1;32mdef\u001B[0m \u001B[0mcancel\u001B[0m\u001B[1;33m(\u001B[0m\u001B[0mself\u001B[0m\u001B[1;33m)\u001B[0m\u001B[1;33m:\u001B[0m\u001B[1;33m\u001B[0m\u001B[1;33m\u001B[0m\u001B[0m\n",
      "\u001B[1;32m~\\Anaconda3\\envs\\ml1\\lib\\site-packages\\matlab\\engine\\fevalfuture.py\u001B[0m in \u001B[0;36mresult\u001B[1;34m(self, timeout)\u001B[0m\n\u001B[0;32m     80\u001B[0m                 \u001B[1;32mraise\u001B[0m \u001B[0mTimeoutError\u001B[0m\u001B[1;33m(\u001B[0m\u001B[0mpythonengine\u001B[0m\u001B[1;33m.\u001B[0m\u001B[0mgetMessage\u001B[0m\u001B[1;33m(\u001B[0m\u001B[1;34m'MatlabFunctionTimeout'\u001B[0m\u001B[1;33m)\u001B[0m\u001B[1;33m)\u001B[0m\u001B[1;33m\u001B[0m\u001B[1;33m\u001B[0m\u001B[0m\n\u001B[0;32m     81\u001B[0m \u001B[1;33m\u001B[0m\u001B[0m\n\u001B[1;32m---> 82\u001B[1;33m             \u001B[0mself\u001B[0m\u001B[1;33m.\u001B[0m\u001B[0m_result\u001B[0m \u001B[1;33m=\u001B[0m \u001B[0mpythonengine\u001B[0m\u001B[1;33m.\u001B[0m\u001B[0mgetFEvalResult\u001B[0m\u001B[1;33m(\u001B[0m\u001B[0mself\u001B[0m\u001B[1;33m.\u001B[0m\u001B[0m_future\u001B[0m\u001B[1;33m,\u001B[0m\u001B[0mself\u001B[0m\u001B[1;33m.\u001B[0m\u001B[0m_nargout\u001B[0m\u001B[1;33m,\u001B[0m \u001B[1;32mNone\u001B[0m\u001B[1;33m,\u001B[0m \u001B[0mout\u001B[0m\u001B[1;33m=\u001B[0m\u001B[0mself\u001B[0m\u001B[1;33m.\u001B[0m\u001B[0m_out\u001B[0m\u001B[1;33m,\u001B[0m \u001B[0merr\u001B[0m\u001B[1;33m=\u001B[0m\u001B[0mself\u001B[0m\u001B[1;33m.\u001B[0m\u001B[0m_err\u001B[0m\u001B[1;33m)\u001B[0m\u001B[1;33m\u001B[0m\u001B[1;33m\u001B[0m\u001B[0m\n\u001B[0m\u001B[0;32m     83\u001B[0m             \u001B[0mself\u001B[0m\u001B[1;33m.\u001B[0m\u001B[0m_retrieved\u001B[0m \u001B[1;33m=\u001B[0m \u001B[1;32mTrue\u001B[0m\u001B[1;33m\u001B[0m\u001B[1;33m\u001B[0m\u001B[0m\n\u001B[0;32m     84\u001B[0m             \u001B[1;32mreturn\u001B[0m \u001B[0mself\u001B[0m\u001B[1;33m.\u001B[0m\u001B[0m_result\u001B[0m\u001B[1;33m\u001B[0m\u001B[1;33m\u001B[0m\u001B[0m\n",
      "\u001B[1;31mEngineError\u001B[0m: MATLAB function cannot be evaluated"
     ]
    }
   ],
   "source": [
    "stop = 0\n",
    "mainPWM = 0.5\n",
    "PWM1 = 0.3\n",
    "PWM2 = 0.4\n",
    "PWM3 = 0.5\n",
    "while (stop!=1):\n",
    "    #Ask controller to do something when it is the time\n",
    "    if (m.eval(\"out.tout\")[-1][0] % t_pause == 0):\n",
    "        if m.eval(\"out.tout\")[-1][0] > 1:\n",
    "            break\n",
    "        update_control(mainPWM, PWM1, PWM2, PWM3)\n",
    "        m.set_param(m.workspace['mdl'],'SimulationCommand','continue',nargout=0)"
   ],
   "metadata": {
    "collapsed": false,
    "pycharm": {
     "name": "#%%\n"
    }
   }
  },
  {
   "cell_type": "code",
   "execution_count": null,
   "outputs": [],
   "source": [
    "m.set_param(m.workspace['mdl'],'SimulationCommand','start',nargout=0)\n",
    "time.sleep(10)\n",
    "m.set_param(m.workspace['mdl'],'SimulationCommand','continue',nargout=0)\n",
    "stop = 0\n",
    "while (stop==0):\n",
    "    time.sleep(10)\n",
    "    y1 = np.array(m.eval(\"out.yout{1}.Values.Data\"))[0,0,:]\n",
    "    y2 = np.array(m.eval(\"out.yout{2}.Values.Data\"))[0,0,:]\n",
    "    y3 = np.array(m.eval(\"out.yout{3}.Values.Data\"))[0,0,:]\n",
    "    print(y1.shape)\n",
    "    plt.plot(y1)\n",
    "    plt.plot(y2)\n",
    "    plt.plot(y3)\n",
    "    plt.legend([1,2,3])\n",
    "    plt.show()\n",
    "    m.set_param(m.workspace['mdl'],'SimulationCommand','continue',nargout=0)\n",
    "\n",
    "    #time.sleep(5)"
   ],
   "metadata": {
    "collapsed": false,
    "pycharm": {
     "name": "#%%\n"
    }
   }
  },
  {
   "cell_type": "code",
   "execution_count": 28,
   "outputs": [],
   "source": [
    "dataXport = out.testvariable.Data;\n",
    "m.set_param(m.workspace['mdl'],'SimulationCommand','stop')"
   ],
   "metadata": {
    "collapsed": false,
    "pycharm": {
     "name": "#%%\n"
    }
   }
  },
  {
   "cell_type": "code",
   "execution_count": 93,
   "outputs": [
    {
     "name": "stdout",
     "output_type": "stream",
     "text": [
      "(357227,)\n"
     ]
    },
    {
     "data": {
      "text/plain": "<Figure size 640x480 with 1 Axes>",
      "image/png": "[encoded data removed]"
     },
     "metadata": {},
     "output_type": "display_data"
    }
   ],
   "source": [
    "#str(0.5)\n",
    "#out = m.workspace['out']\n",
    "#yout = m.get(out, 'yout')\n",
    "y1 = np.array(m.eval(\"out.yout{1}.Values.Data\"))[0,0,:]\n",
    "y2 = np.array(m.eval(\"out.yout{2}.Values.Data\"))[0,0,:]\n",
    "y3 = np.array(m.eval(\"out.yout{3}.Values.Data\"))[0,0,:]\n",
    "print(y1.shape)\n",
    "plt.plot(y1)\n",
    "plt.plot(y2)\n",
    "plt.plot(y3)\n",
    "plt.legend([1,2,3])\n",
    "plt.show()\n",
    "#a = m.get(out, '{1}')\n",
    "#.yout{1}.V0alues.Data"
   ],
   "metadata": {
    "collapsed": false,
    "pycharm": {
     "name": "#%%\n"
    }
   }
  },
  {
   "cell_type": "code",
   "execution_count": 7,
   "outputs": [],
   "source": [
    "m.quit()\n"
   ],
   "metadata": {
    "collapsed": false,
    "pycharm": {
     "name": "#%%\n"
    }
   }
  }
 ],
 "metadata": {
  "kernelspec": {
   "display_name": "Python 3",
   "language": "python",
   "name": "python3"
  },
  "language_info": {
   "codemirror_mode": {
    "name": "ipython",
    "version": 2
   },
   "file_extension": ".py",
   "mimetype": "text/x-python",
   "name": "python",
   "nbconvert_exporter": "python",
   "pygments_lexer": "ipython2",
   "version": "2.7.6"
  }
 },
 "nbformat": 4,
 "nbformat_minor": 0
}