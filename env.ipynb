{
 "cells": [
  {
   "cell_type": "code",
   "execution_count": 85,
   "metadata": {
    "collapsed": true
   },
   "outputs": [
    {
     "ename": "EngineError",
     "evalue": "Unable to connect to MATLAB session 'RLengine'.",
     "output_type": "error",
     "traceback": [
      "\u001B[1;31m---------------------------------------------------------------------------\u001B[0m",
      "\u001B[1;31mEngineError\u001B[0m                               Traceback (most recent call last)",
      "\u001B[1;32m<ipython-input-85-bde4cd24e053>\u001B[0m in \u001B[0;36m<module>\u001B[1;34m\u001B[0m\n\u001B[0;32m      3\u001B[0m \u001B[1;32mimport\u001B[0m \u001B[0mmatplotlib\u001B[0m\u001B[1;33m.\u001B[0m\u001B[0mpyplot\u001B[0m \u001B[1;32mas\u001B[0m \u001B[0mplt\u001B[0m\u001B[1;33m\u001B[0m\u001B[1;33m\u001B[0m\u001B[0m\n\u001B[0;32m      4\u001B[0m \u001B[1;32mimport\u001B[0m \u001B[0mmatlab\u001B[0m\u001B[1;33m.\u001B[0m\u001B[0mengine\u001B[0m\u001B[1;33m\u001B[0m\u001B[1;33m\u001B[0m\u001B[0m\n\u001B[1;32m----> 5\u001B[1;33m \u001B[0mm\u001B[0m \u001B[1;33m=\u001B[0m \u001B[0mmatlab\u001B[0m\u001B[1;33m.\u001B[0m\u001B[0mengine\u001B[0m\u001B[1;33m.\u001B[0m\u001B[0mconnect_matlab\u001B[0m\u001B[1;33m(\u001B[0m\u001B[1;34m'RLengine'\u001B[0m\u001B[1;33m)\u001B[0m\u001B[1;33m\u001B[0m\u001B[1;33m\u001B[0m\u001B[0m\n\u001B[0m\u001B[0;32m      6\u001B[0m \u001B[1;33m\u001B[0m\u001B[0m\n\u001B[0;32m      7\u001B[0m \u001B[0mt_pause\u001B[0m \u001B[1;33m=\u001B[0m \u001B[1;36m0.0001\u001B[0m \u001B[1;31m#This needs to match the simulation pausing block parameter\u001B[0m\u001B[1;33m\u001B[0m\u001B[1;33m\u001B[0m\u001B[0m\n",
      "\u001B[1;32m~\\Anaconda3\\envs\\ml1\\lib\\site-packages\\matlab\\engine\\__init__.py\u001B[0m in \u001B[0;36mconnect_matlab\u001B[1;34m(name, **kwargs)\u001B[0m\n\u001B[0;32m    195\u001B[0m         \u001B[0mfuture\u001B[0m \u001B[1;33m=\u001B[0m \u001B[0mFutureResult\u001B[0m\u001B[1;33m(\u001B[0m\u001B[0mname\u001B[0m\u001B[1;33m=\u001B[0m\u001B[0mname\u001B[0m\u001B[1;33m,\u001B[0m \u001B[0mattach\u001B[0m\u001B[1;33m=\u001B[0m\u001B[1;32mTrue\u001B[0m\u001B[1;33m)\u001B[0m\u001B[1;33m\u001B[0m\u001B[1;33m\u001B[0m\u001B[0m\n\u001B[0;32m    196\u001B[0m         \u001B[1;32mif\u001B[0m \u001B[1;32mnot\u001B[0m \u001B[0mbackground\u001B[0m\u001B[1;33m:\u001B[0m\u001B[1;33m\u001B[0m\u001B[1;33m\u001B[0m\u001B[0m\n\u001B[1;32m--> 197\u001B[1;33m             \u001B[0meng\u001B[0m \u001B[1;33m=\u001B[0m \u001B[0mfuture\u001B[0m\u001B[1;33m.\u001B[0m\u001B[0mresult\u001B[0m\u001B[1;33m(\u001B[0m\u001B[1;33m)\u001B[0m\u001B[1;33m\u001B[0m\u001B[1;33m\u001B[0m\u001B[0m\n\u001B[0m\u001B[0;32m    198\u001B[0m             \u001B[1;32mreturn\u001B[0m \u001B[0meng\u001B[0m\u001B[1;33m\u001B[0m\u001B[1;33m\u001B[0m\u001B[0m\n\u001B[0;32m    199\u001B[0m         \u001B[1;32melse\u001B[0m\u001B[1;33m:\u001B[0m\u001B[1;33m\u001B[0m\u001B[1;33m\u001B[0m\u001B[0m\n",
      "\u001B[1;32m~\\Anaconda3\\envs\\ml1\\lib\\site-packages\\matlab\\engine\\futureresult.py\u001B[0m in \u001B[0;36mresult\u001B[1;34m(self, timeout)\u001B[0m\n\u001B[0;32m     65\u001B[0m                 \u001B[1;32mraise\u001B[0m \u001B[0mTypeError\u001B[0m\u001B[1;33m(\u001B[0m\u001B[0mpythonengine\u001B[0m\u001B[1;33m.\u001B[0m\u001B[0mgetMessage\u001B[0m\u001B[1;33m(\u001B[0m\u001B[1;34m'TimeoutCannotBeNegative'\u001B[0m\u001B[1;33m)\u001B[0m\u001B[1;33m)\u001B[0m\u001B[1;33m\u001B[0m\u001B[1;33m\u001B[0m\u001B[0m\n\u001B[0;32m     66\u001B[0m \u001B[1;33m\u001B[0m\u001B[0m\n\u001B[1;32m---> 67\u001B[1;33m         \u001B[1;32mreturn\u001B[0m \u001B[0mself\u001B[0m\u001B[1;33m.\u001B[0m\u001B[0m__future\u001B[0m\u001B[1;33m.\u001B[0m\u001B[0mresult\u001B[0m\u001B[1;33m(\u001B[0m\u001B[0mtimeout\u001B[0m\u001B[1;33m)\u001B[0m\u001B[1;33m\u001B[0m\u001B[1;33m\u001B[0m\u001B[0m\n\u001B[0m\u001B[0;32m     68\u001B[0m \u001B[1;33m\u001B[0m\u001B[0m\n\u001B[0;32m     69\u001B[0m     \u001B[1;32mdef\u001B[0m \u001B[0mcancel\u001B[0m\u001B[1;33m(\u001B[0m\u001B[0mself\u001B[0m\u001B[1;33m)\u001B[0m\u001B[1;33m:\u001B[0m\u001B[1;33m\u001B[0m\u001B[1;33m\u001B[0m\u001B[0m\n",
      "\u001B[1;32m~\\Anaconda3\\envs\\ml1\\lib\\site-packages\\matlab\\engine\\matlabfuture.py\u001B[0m in \u001B[0;36mresult\u001B[1;34m(self, timeout)\u001B[0m\n\u001B[0;32m     85\u001B[0m                     \u001B[1;32mraise\u001B[0m \u001B[0mTimeoutError\u001B[0m\u001B[1;33m(\u001B[0m\u001B[0mpythonengine\u001B[0m\u001B[1;33m.\u001B[0m\u001B[0mgetMessage\u001B[0m\u001B[1;33m(\u001B[0m\u001B[1;34m'LaunchMatlabTimeout'\u001B[0m\u001B[1;33m)\u001B[0m\u001B[1;33m)\u001B[0m\u001B[1;33m\u001B[0m\u001B[1;33m\u001B[0m\u001B[0m\n\u001B[0;32m     86\u001B[0m \u001B[1;33m\u001B[0m\u001B[0m\n\u001B[1;32m---> 87\u001B[1;33m             \u001B[0mhandle\u001B[0m \u001B[1;33m=\u001B[0m \u001B[0mpythonengine\u001B[0m\u001B[1;33m.\u001B[0m\u001B[0mgetMATLAB\u001B[0m\u001B[1;33m(\u001B[0m\u001B[0mself\u001B[0m\u001B[1;33m.\u001B[0m\u001B[0m_future\u001B[0m\u001B[1;33m)\u001B[0m\u001B[1;33m\u001B[0m\u001B[1;33m\u001B[0m\u001B[0m\n\u001B[0m\u001B[0;32m     88\u001B[0m             \u001B[0meng\u001B[0m \u001B[1;33m=\u001B[0m \u001B[0mMatlabEngine\u001B[0m\u001B[1;33m(\u001B[0m\u001B[0mhandle\u001B[0m\u001B[1;33m)\u001B[0m\u001B[1;33m\u001B[0m\u001B[1;33m\u001B[0m\u001B[0m\n\u001B[0;32m     89\u001B[0m             \u001B[0mself\u001B[0m\u001B[1;33m.\u001B[0m\u001B[0m_matlab\u001B[0m \u001B[1;33m=\u001B[0m \u001B[0meng\u001B[0m\u001B[1;33m\u001B[0m\u001B[1;33m\u001B[0m\u001B[0m\n",
      "\u001B[1;31mEngineError\u001B[0m: Unable to connect to MATLAB session 'RLengine'."
     ]
    }
   ],
   "source": [
    "import time\n",
    "import numpy as np\n",
    "import matplotlib.pyplot as plt\n",
    "import matlab.engine\n",
    "m = matlab.engine.connect_matlab('RLengine')\n",
    "\n",
    "t_pause = 0.0001 #This needs to match the simulation pausing block parameter\n"
   ]
  },
  {
   "cell_type": "code",
   "execution_count": 186,
   "outputs": [],
   "source": [
    "def update_control(mainPWM, PWM1, PWM2, PWM3):\n",
    "    freq = m.workspace['f']\n",
    "    #Main PWM\n",
    "    delay_main = mainPWM / freq\n",
    "    m.set_param(m.workspace['var_D_main'],'Value',str(mainPWM), nargout=0)\n",
    "    m.set_param(m.workspace['var_D_main_n'],'Value',str(1-mainPWM), nargout=0)\n",
    "    m.set_param(m.workspace['var_D_main_PWM'],'Tdelay',str(0), nargout=0)\n",
    "    m.set_param(m.workspace['var_D_main_n_PWM'],'Tdelay',str(delay_main), nargout=0)\n",
    "\n",
    "    delay_PWM1 = 0\n",
    "    delay_PWM2 = PWM1 / freq\n",
    "    delay_PWM3 = (PWM1+PWM2) / freq\n",
    "    #PWM\n",
    "    m.set_param(m.workspace['var_D_si_1'],'Value',str(PWM1), nargout=0)\n",
    "    m.set_param(m.workspace['var_D_si_2'],'Value',str(PWM2), nargout=0)\n",
    "    m.set_param(m.workspace['var_D_si_3'],'Value',str(PWM3), nargout=0)\n",
    "    #Delay\n",
    "    m.set_param(m.workspace['var_D_si_1_PWM'],'Tdelay',str(delay_PWM1), nargout=0)\n",
    "    m.set_param(m.workspace['var_D_si_2_PWM'],'Tdelay',str(delay_PWM2), nargout=0)\n",
    "    m.set_param(m.workspace['var_D_si_3_PWM'],'Tdelay',str(delay_PWM3), nargout=0)\n",
    "\n",
    "def update_load(load1, load2, load3):\n",
    "    m.set_param(m.workspace['source_1'],'i0',str(load1), nargout=0)\n",
    "    m.set_param(m.workspace['source_2'],'i0',str(load2), nargout=0)\n",
    "    m.set_param(m.workspace['source_3'],'i0',str(load3), nargout=0)\n",
    "def action_to_control(current_PWM, action):\n",
    "    # In this verion, the control value simply tells the PWM to go up or go down\n",
    "    for PWM_id in range(4):\n",
    "        current_PWM[PWM_id] = action[PWM_id]\n",
    "    return current_PWM\n",
    "class PMICModel():\n",
    "    #namedtuple('Values', ['power','HD1','HD2','HD3','THD'])\n",
    "    def __init__(self, desired_V, init_PWM, init_load):\n",
    "        self.desired_V = desired_V\n",
    "        self.init_PWM = init_PWM\n",
    "        self.init_load = init_load\n",
    "\n",
    "        self.mainPWM = init_PWM[0]\n",
    "        self.PWM1 = init_PWM[1]\n",
    "        self.PWM2 = init_PWM[2]\n",
    "        self.PWM3 = init_PWM[3]\n",
    "\n",
    "        load1 = init_load[0]\n",
    "        load2 = init_load[1]\n",
    "        load3 = init_load[2]\n",
    "\n",
    "        self.current_V = [0,0,0]\n",
    "        self.prev_V = [0,0,0]\n",
    "        self.current_PWM = init_PWM\n",
    "        #Run startup transient\n",
    "        self.reset()\n",
    "\n",
    "        #\n",
    "    def reset(self, desired_V=None, init_PWM=None, init_load=None):\n",
    "        if desired_V != None:\n",
    "            self.desired_V = desired_V\n",
    "        if init_PWM != None:\n",
    "            self.init_PWM = init_PWM\n",
    "        if init_load != None:\n",
    "            self.init_load = init_load\n",
    "\n",
    "        m.set_param(m.workspace['mdl'],'SimulationCommand','stop',nargout=0)\n",
    "        #init control values\n",
    "        update_control(self.init_PWM[0],self.init_PWM[1],self.init_PWM[2],self.init_PWM[3])\n",
    "        update_load(self.init_load[0], self.init_load[1], self.init_load[2])\n",
    "        #run startup transient\n",
    "        m.set_param(m.workspace['mdl'],'SimulationCommand','start',nargout=0)\n",
    "        m.set_param(m.workspace['mdl'],'SimulationCommand','continue',nargout=0)\n",
    "        time.sleep(1)\n",
    "        #print(m.eval(\"out.tout\"))\n",
    "        #while (m.eval(\"out.tout\")[-1][0] % t_pause != 0):\n",
    "        #    pass\n",
    "        while (m.get_param(m.workspace['mdl'], 'SimulationStatus') != 'paused'):\n",
    "            pass\n",
    "        #Get current V\n",
    "        #print(self.current_V)\n",
    "        #print(np.array(m.eval(\"out.yout{1}.Values.Data\")))\n",
    "        self.current_V[0] = np.array(m.eval(\"out.yout{1}.Values.Data\"))[0,0,:][-1]\n",
    "        self.current_V[1] = np.array(m.eval(\"out.yout{2}.Values.Data\"))[0,0,:][-1]\n",
    "        self.current_V[2] = np.array(m.eval(\"out.yout{3}.Values.Data\"))[0,0,:][-1]\n",
    "        self.current_PWM = self.init_PWM\n",
    "    def change_load(self, new_load):\n",
    "        update_load(new_load[0], new_load[1], new_load[2])\n",
    "        m.set_param(m.workspace['mdl'],'SimulationCommand','update',nargout=0)\n",
    "        m.set_param(m.workspace['mdl'],'SimulationCommand','continue',nargout=0)\n",
    "        #Let the simulation run while check time\n",
    "        while m.get_param(m.workspace['mdl'], 'SimulationStatus') != 'paused':\n",
    "            pass\n",
    "        self.current_V[0] = np.array(m.eval(\"out.yout{1}.Values.Data\"))[0,0,:][-1]\n",
    "        self.current_V[1] = np.array(m.eval(\"out.yout{2}.Values.Data\"))[0,0,:][-1]\n",
    "        self.current_V[2] = np.array(m.eval(\"out.yout{3}.Values.Data\"))[0,0,:][-1]\n",
    "    def step(self, action):\n",
    "        #Record prev V\n",
    "        self.prev_V = self.current_V\n",
    "\n",
    "        ###Action:\n",
    "        self.current_PWM = action_to_control(self.current_PWM, action) #use NN output action to update PWM\n",
    "        update_control(self.current_PWM [0],self.current_PWM [1],self.current_PWM [2],self.current_PWM [3])\n",
    "        #Updating the load should be an externel random event\n",
    "        #update_load(init_load[0], init_load[1], init_load[2])\n",
    "        # Continue the work\n",
    "        m.set_param(m.workspace['mdl'],'SimulationCommand','continue',nargout=0)\n",
    "        #Let the simulation run while check time\n",
    "        while m.get_param(m.workspace['mdl'], 'SimulationStatus') != 'paused':\n",
    "            pass\n",
    "        # Simulation will be paused here. Now the check the new Vout\n",
    "\n",
    "        self.current_V[0] = np.array(m.eval(\"out.yout{1}.Values.Data\"))[0,0,:][-1]\n",
    "        self.current_V[1] = np.array(m.eval(\"out.yout{2}.Values.Data\"))[0,0,:][-1]\n",
    "        self.current_V[2] = np.array(m.eval(\"out.yout{3}.Values.Data\"))[0,0,:][-1]\n",
    "        self.current_PWM = self.init_PWM\n",
    "        #TODO: Reward Function\n",
    "        reward = 0.5\n",
    "        #done = noAction\n",
    "        done = 0\n",
    "        return self.current_V, reward, done, 1\n",
    "        # I am thinking about making the state [current PWM*4, prev V * 3, current V*3]\n",
    "    def return_state(self):\n",
    "        return self.state"
   ],
   "metadata": {
    "collapsed": false,
    "pycharm": {
     "name": "#%%\n"
    }
   }
  },
  {
   "cell_type": "code",
   "execution_count": 187,
   "outputs": [],
   "source": [
    "desired_V = [3.3, 1.8, 1.2]\n",
    "init_PWM = [0.5, 0.3,0.4,0.5] #Main, 1, 2, 3\n",
    "init_load = [10,10,10]\n",
    "env = PMICModel(desired_V, init_PWM, init_load)"
   ],
   "metadata": {
    "collapsed": false,
    "pycharm": {
     "name": "#%%\n"
    }
   }
  },
  {
   "cell_type": "code",
   "execution_count": 188,
   "outputs": [
    {
     "name": "stdout",
     "output_type": "stream",
     "text": [
      "[1.5434923190233676, 1.8528737746371169, 1.6672717808516764]\n"
     ]
    }
   ],
   "source": [
    "print(env.current_V)"
   ],
   "metadata": {
    "collapsed": false,
    "pycharm": {
     "name": "#%%\n"
    }
   }
  },
  {
   "cell_type": "code",
   "execution_count": 189,
   "outputs": [],
   "source": [
    "sig_len = 8\n",
    "V0 = []\n",
    "V1 = []\n",
    "V2 = []"
   ],
   "metadata": {
    "collapsed": false,
    "pycharm": {
     "name": "#%%\n"
    }
   }
  },
  {
   "cell_type": "code",
   "execution_count": 191,
   "outputs": [],
   "source": [
    "for i in range(sig_len):\n",
    "    V_new,_,_,_ = env.step([0.5, 0.3,0.4,0.5])\n",
    "    V0.append(V_new[0])\n",
    "    V1.append(V_new[1])\n",
    "    V2.append(V_new[2])"
   ],
   "metadata": {
    "collapsed": false,
    "pycharm": {
     "name": "#%%\n"
    }
   }
  },
  {
   "cell_type": "code",
   "execution_count": 195,
   "outputs": [],
   "source": [
    "for i in range(sig_len):\n",
    "    env.change_load([100,100,100])\n",
    "    V0.append(env.current_V[0])\n",
    "    V1.append(env.current_V[1])\n",
    "    V2.append(env.current_V[2])"
   ],
   "metadata": {
    "collapsed": false,
    "pycharm": {
     "name": "#%%\n"
    }
   }
  },
  {
   "cell_type": "code",
   "execution_count": 196,
   "outputs": [
    {
     "data": {
      "text/plain": "<Figure size 640x480 with 1 Axes>",
      "image/png": "[encoded data removed]"
     },
     "metadata": {},
     "output_type": "display_data"
    }
   ],
   "source": [
    "plt.plot(V0)\n",
    "plt.plot(V1)\n",
    "plt.plot(V2)\n",
    "plt.ylabel(\"Volts\")\n",
    "plt.xlabel(\"0.1ms\")\n",
    "plt.legend([\"v0\",\"v1\",\"v2\"])\n",
    "plt.show()"
   ],
   "metadata": {
    "collapsed": false,
    "pycharm": {
     "name": "#%%\n"
    }
   }
  },
  {
   "cell_type": "code",
   "execution_count": 28,
   "outputs": [],
   "source": [
    "while (m.eval(\"out.tout\")[-1][0] % t_pause != 0):\n",
    "    print(m.eval(\"out.tout\")[-1])\n",
    "    time.sleep(0.1)\n",
    "    pass"
   ],
   "metadata": {
    "collapsed": false,
    "pycharm": {
     "name": "#%%\n"
    }
   }
  },
  {
   "cell_type": "code",
   "execution_count": 56,
   "outputs": [
    {
     "data": {
      "text/plain": "2.429031792819656"
     },
     "execution_count": 56,
     "metadata": {},
     "output_type": "execute_result"
    }
   ],
   "source": [
    "np.array(m.eval(\"out.yout{1}.Values.Data\"))[0,0,:][-1]"
   ],
   "metadata": {
    "collapsed": false,
    "pycharm": {
     "name": "#%%\n"
    }
   }
  },
  {
   "cell_type": "code",
   "execution_count": 72,
   "outputs": [
    {
     "data": {
      "text/plain": "'paused'"
     },
     "execution_count": 72,
     "metadata": {},
     "output_type": "execute_result"
    }
   ],
   "source": [],
   "metadata": {
    "collapsed": false,
    "pycharm": {
     "name": "#%%\n"
    }
   }
  }
 ],
 "metadata": {
  "kernelspec": {
   "display_name": "Python 3",
   "language": "python",
   "name": "python3"
  },
  "language_info": {
   "codemirror_mode": {
    "name": "ipython",
    "version": 2
   },
   "file_extension": ".py",
   "mimetype": "text/x-python",
   "name": "python",
   "nbconvert_exporter": "python",
   "pygments_lexer": "ipython2",
   "version": "2.7.6"
  }
 },
 "nbformat": 4,
 "nbformat_minor": 0
}